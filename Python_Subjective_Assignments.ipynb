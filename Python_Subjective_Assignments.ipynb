{
 "cells": [
  {
   "cell_type": "code",
   "execution_count": 1,
   "metadata": {},
   "outputs": [
    {
     "name": "stdout",
     "output_type": "stream",
     "text": [
      "Enter a word: puppet\n",
      "pu$$et\n"
     ]
    }
   ],
   "source": [
    "'''\n",
    "Q1. Write a Python program to get the string from the given string where\n",
    "all the occurrence of its first char has been changed to '$,' except first\n",
    "char itself?\n",
    "Sample String: 'prospect'\n",
    "Expected Result : 'pros$ect'\n",
    "'''\n",
    "\n",
    "\n",
    "def strManipulation(w):\n",
    "    li = [i for i in w]\n",
    "    fchar = li[0]\n",
    "    result = fchar\n",
    "    for i in li[1:] :\n",
    "        if i == fchar :\n",
    "            result = result+'$'\n",
    "        else :\n",
    "            result = result+i\n",
    "    return result\n",
    "\n",
    "#Testing the function !\n",
    "\n",
    "w = input('Enter a word: ')\n",
    "print(strManipulation(w))"
   ]
  },
  {
   "cell_type": "code",
   "execution_count": 2,
   "metadata": {},
   "outputs": [
    {
     "name": "stdout",
     "output_type": "stream",
     "text": [
      "Enter the first word: abc\n",
      "Enter the second word: xyzzz\n",
      "xyc abzzz\n"
     ]
    }
   ],
   "source": [
    "'''\n",
    "Q2. Write a Python program to get the single string from the two given\n",
    "strings, and separated by the space and swap the first two characters of\n",
    "each string?\n",
    "Sample String : 'abc', 'xyz'.\n",
    "Expected Result: 'xyc abz'\n",
    "'''\n",
    "\n",
    "\n",
    "def fnctn(str1, str2):\n",
    "    a = str1[0:2]\n",
    "    b = str2[0:2]\n",
    "    result = b+str1[2:]+\" \"+a+str2[2:]\n",
    "    return result\n",
    "\n",
    "#Testing the function !\n",
    "\n",
    "w1 = input(\"Enter the first word: \")\n",
    "w2 = input(\"Enter the second word: \")\n",
    "print(fnctn(w1,w2))"
   ]
  },
  {
   "cell_type": "code",
   "execution_count": 3,
   "metadata": {},
   "outputs": [
    {
     "name": "stdout",
     "output_type": "stream",
     "text": [
      "Enter a word: string\n",
      "stringly\n"
     ]
    }
   ],
   "source": [
    "'''\n",
    "Q3. Write the Python program to add 'ing' at the end of the given string\n",
    "(length of the string should be at least 3). If given string already ends\n",
    "with 'ing,' then add 'ly' instead. If string length of the given string is less\n",
    "than 3, leave it unchanged?\n",
    "Sample string: ' abc '\n",
    "Expected result: ' abcing '\n",
    "Sample string: ' string '\n",
    "Expected result: ' stringly '\n",
    "'''\n",
    "    \n",
    "    \n",
    "def strManipulation(w):\n",
    "    if len(w)<3 :\n",
    "        return w\n",
    "    elif w[-3:] == \"ing\" :\n",
    "        return w+\"ly\"\n",
    "    else :\n",
    "        return w+\"ing\"\n",
    "    \n",
    "#Testing the function !\n",
    "    \n",
    "w = input(\"Enter a word: \")\n",
    "print(strManipulation(w))"
   ]
  },
  {
   "cell_type": "code",
   "execution_count": 6,
   "metadata": {},
   "outputs": [],
   "source": [
    "'''\n",
    "Q4. Write the Python program to find the first appearance of the\n",
    "substring 'not' and 'poor' from the given string, if 'not' follows the 'poor',\n",
    "replace the whole 'not'...' poor' substring with 'good'.Return the resulting\n",
    "string.\n",
    "Sample string: 'The lyrics are not that poor!'\n",
    "'The lyrics are poor!'\n",
    "Expected Result: 'The lyrics are good!'\n",
    "'The lyrics are poor!'\n",
    "\n",
    "'''\n",
    "\n",
    "def fun():\n",
    "    pass\n"
   ]
  },
  {
   "cell_type": "code",
   "execution_count": 1,
   "metadata": {},
   "outputs": [
    {
     "name": "stdout",
     "output_type": "stream",
     "text": [
      "Enter a word: python\n"
     ]
    },
    {
     "data": {
      "text/plain": [
       "'pto'"
      ]
     },
     "execution_count": 1,
     "metadata": {},
     "output_type": "execute_result"
    }
   ],
   "source": [
    "'''\n",
    "Q5. Write the Python program to remove the characters which have odd index values of a given string.\n",
    "'''\n",
    "\n",
    "\n",
    "def rmOddIndex(ip_word):\n",
    "    result = ip_word[0]\n",
    "    cntr = 0\n",
    "    for i in ip_word[1:]:\n",
    "        cntr += 1\n",
    "        if cntr%2 == 0:\n",
    "            result = result+i\n",
    "    return result\n",
    "\n",
    "ip_word = input(\"Enter a word: \")\n",
    "rmOddIndex(ip_word)"
   ]
  },
  {
   "cell_type": "code",
   "execution_count": 3,
   "metadata": {},
   "outputs": [
    {
     "name": "stdout",
     "output_type": "stream",
     "text": [
      "Enter a word: p\n",
      "Length of word should be alteast of 2 characters !\n",
      "Enter a word: python\n"
     ]
    },
    {
     "data": {
      "text/plain": [
       "'onononon'"
      ]
     },
     "execution_count": 3,
     "metadata": {},
     "output_type": "execute_result"
    }
   ],
   "source": [
    "'''\n",
    "Q6. Write the Python function to get a string made of 4 copies of the last two characters of the specified \n",
    "string (length must be at least 2).\n",
    "'''\n",
    "\n",
    "\n",
    "def cpLastTwoChar(ip_word):\n",
    "    n_word = ip_word[-2:]\n",
    "    result = \"\"\n",
    "    for i in range(4):\n",
    "        result = result+n_word\n",
    "    return result\n",
    "\n",
    "while(1): \n",
    "    ip_word = input(\"Enter a word: \")\n",
    "    if len(ip_word) < 2:\n",
    "        print('Length of word should be alteast of 2 characters !')\n",
    "    else:\n",
    "        break\n",
    "        \n",
    "cpLastTwoChar(ip_word)"
   ]
  },
  {
   "cell_type": "code",
   "execution_count": 1,
   "metadata": {},
   "outputs": [
    {
     "name": "stdout",
     "output_type": "stream",
     "text": [
      "Enter a word: python\n"
     ]
    },
    {
     "data": {
      "text/plain": [
       "'pyt'"
      ]
     },
     "execution_count": 1,
     "metadata": {},
     "output_type": "execute_result"
    }
   ],
   "source": [
    "'''\n",
    "Q7. Write the python function to get a string made of its first three\n",
    "characters of a specified string. If the length of the string is less than 3\n",
    "then return the original string.\n",
    "Sample function and result :\n",
    "first-three('ipy') -> ipy\n",
    "first-three('python') -> pyt\n",
    "'''\n",
    "\n",
    "\n",
    "def prntLastThreeChar(ip_word):\n",
    "    if len(ip_word) > 3:\n",
    "        return ip_word[:3]\n",
    "    else:\n",
    "        return ip_word\n",
    "    \n",
    "ip_word = input(\"Enter a word: \")\n",
    "prntLastThreeChar(ip_word)"
   ]
  },
  {
   "cell_type": "code",
   "execution_count": 3,
   "metadata": {},
   "outputs": [
    {
     "name": "stdout",
     "output_type": "stream",
     "text": [
      "Enter a floating number: 10.5415\n",
      "Rounding 10.5415 upto 2 decimal place: 10.54\n"
     ]
    }
   ],
   "source": [
    "'''Q8. Write the python program to print the following floating numbers upto 2 decimal places?'''\n",
    "\n",
    "\n",
    "ip_num = float(input(\"Enter a floating number: \"))\n",
    "#print(f'Rounding {ip_num} upto 2 decimal place: {round(ip_num,2)}')\n",
    "print(f'Rounding {ip_num} upto 2 decimal place: {\"%.2f\" % ip_num}')"
   ]
  },
  {
   "cell_type": "code",
   "execution_count": 8,
   "metadata": {},
   "outputs": [
    {
     "name": "stdout",
     "output_type": "stream",
     "text": [
      "Enter a floating number: 0.25\n",
      "Formatted Number with percentage: 25.00%\n"
     ]
    }
   ],
   "source": [
    "'''Q9. Write the Python program to format a number with a percentage?'''\n",
    "\n",
    "\n",
    "ip_num = float(input(\"Enter a floating number: \"))\n",
    "print(\"Formatted Number with percentage: \"+\"{:.2%}\".format(ip_num))"
   ]
  },
  {
   "cell_type": "code",
   "execution_count": 9,
   "metadata": {},
   "outputs": [
    {
     "name": "stdout",
     "output_type": "stream",
     "text": [
      "Enter a string: abcdfyvcdz\n"
     ]
    },
    {
     "data": {
      "text/plain": [
       "{'cd': 2}"
      ]
     },
     "execution_count": 9,
     "metadata": {},
     "output_type": "execute_result"
    }
   ],
   "source": [
    "'''Q10. Write the Python program to count occurrences of a substring in a String?'''\n",
    "\n",
    "\n",
    "from collections import Counter\n",
    "def cOfSubStr(ip_str):\n",
    "    result = {}\n",
    "    #d = {i:ip_str.count(i) for i in ip_str} or\n",
    "    d = dict(Counter(ip_str))\n",
    "    for key in d:\n",
    "        if d[key]>1:\n",
    "            result.update({key:d[key]})\n",
    "    return result\n",
    "ip_str = input(\"Enter a string: \")\n",
    "f_ip_str = [ip_str[i: j] for i in range(len(ip_str)) \n",
    "          for j in range(i + 2, len(ip_str) + 1)]\n",
    "cOfSubStr(f_ip_str)"
   ]
  },
  {
   "cell_type": "code",
   "execution_count": 10,
   "metadata": {},
   "outputs": [
    {
     "name": "stdout",
     "output_type": "stream",
     "text": [
      "Enter a string: thequickbrownjumpsoverthelazydog\n",
      "e 3\n",
      "o 3\n",
      "t 2\n",
      "h 2\n",
      "u 2\n",
      "r 2\n"
     ]
    }
   ],
   "source": [
    "'''\n",
    "Q11. Write the Python program to count repeated characters in a string.\n",
    "Sample string: ' thequickbrownjumpsoverthelazydog '\n",
    "Expected output:\n",
    "o 3\n",
    "e 3\n",
    "u 2\n",
    "h 2\n",
    "r 2\n",
    "t 2\n",
    "'''\n",
    "\n",
    "from collections import Counter\n",
    "def cOfChaStr(ip_str):\n",
    "    result = {}\n",
    "    #d = {i:ip_str.count(i) for i in ip_str} or\n",
    "    d = dict(Counter(ip_str))\n",
    "    for key in d:\n",
    "        if d[key]>1:\n",
    "            result.update({key:d[key]})\n",
    "    return result\n",
    "\n",
    "ip_str = input(\"Enter a string: \")\n",
    "r = cOfChaStr(ip_str)\n",
    "for i in sorted(r, key=r.get, reverse=True):\n",
    "    print(f'{i} {r[i]}')"
   ]
  },
  {
   "cell_type": "code",
   "execution_count": 1,
   "metadata": {},
   "outputs": [
    {
     "name": "stdout",
     "output_type": "stream",
     "text": [
      "Enter the area of triangle: 1256.54\n",
      "Enter the volume of cylinder: 1258.698\n",
      "\n",
      "The Area of your triangle is 1256.54cm²\n",
      "The Volume of your cylinder is 1258.698cm³\n"
     ]
    }
   ],
   "source": [
    "'''\n",
    "Q12. Write the Python program to print the square and cube symbol in\n",
    "the area of a rectangle and volume of a cylinder?\n",
    "Sample output-\n",
    "The area of the rectangle is 1256.66cm 2\n",
    "The volume of the cylinder is 1254.725cm 3\n",
    "'''\n",
    "\n",
    "triArea = float(input(\"Enter the area of triangle: \"))\n",
    "cylVol = float(input(\"Enter the volume of cylinder: \"))\n",
    "print(\"\\nThe Area of your triangle is {}cm\\u00b2\".format(triArea))\n",
    "print(\"The Volume of your cylinder is {}cm\\u00b3\".format(cylVol))"
   ]
  },
  {
   "cell_type": "code",
   "execution_count": 2,
   "metadata": {},
   "outputs": [
    {
     "name": "stdout",
     "output_type": "stream",
     "text": [
      "Enter a string: The quick brown fox jumps over the lazy dog\n"
     ]
    },
    {
     "data": {
      "text/plain": [
       "True"
      ]
     },
     "execution_count": 2,
     "metadata": {},
     "output_type": "execute_result"
    }
   ],
   "source": [
    "'''Q13. Write the Python program to check if a string contains all letters of the alphabet?'''\n",
    "\n",
    "\n",
    "import string\n",
    "def allAlphaCheck(ip_str):\n",
    "    alph = set(string.ascii_lowercase)\n",
    "    return set(ip_str.lower()) >= alph\n",
    "\n",
    "ip_str = input(\"Enter a string: \")\n",
    "allAlphaCheck(ip_str)"
   ]
  },
  {
   "cell_type": "code",
   "execution_count": 1,
   "metadata": {},
   "outputs": [
    {
     "name": "stdout",
     "output_type": "stream",
     "text": [
      "Enter the list of characters: abc xyz wxw 1331\n",
      "Result: 2\n"
     ]
    }
   ],
   "source": [
    "'''\n",
    "Q20. Write the Python program to count the number of strings where the\n",
    "string length is 2 or more, and first and last character are same from a given list of strings.\n",
    "Sample List : ['abc', 'xyz', 'wxw', '1331']\n",
    "Expected Result: 2\n",
    "'''\n",
    "\n",
    "def functn(li):\n",
    "    cntr = 0\n",
    "    for i in li:\n",
    "        if len(i)>2 and i[:1] == i[-1:]:\n",
    "            cntr += 1\n",
    "    return cntr\n",
    "\n",
    "li = list(map(str, input('Enter the list of characters: ').rstrip().split(' ')))\n",
    "print(f'Result: {functn(li)}')"
   ]
  },
  {
   "cell_type": "code",
   "execution_count": 2,
   "metadata": {},
   "outputs": [
    {
     "name": "stdout",
     "output_type": "stream",
     "text": [
      "[(2, 1), (1, 2), (2, 3), (4, 4), (2, 5)]\n"
     ]
    }
   ],
   "source": [
    "'''\n",
    "Q21. Write the Python program to get a list, sorted in increasing order by\n",
    "the last element in each tuple from the given list of non-empty\n",
    "tuples?\n",
    "\n",
    "Sample List - [ (2, 5), (1, 2), (4, 4), (2, 3), (2, 1) ]\n",
    "Expected Result - [ (2, 1), (1, 2), (2, 3), (4, 4), (2, 5) ]\n",
    "'''\n",
    "\n",
    "from operator import itemgetter\n",
    "\n",
    "ip_list = [(2,5), (1,2), (4,4), (2,3), (2,1)]\n",
    "ip_list = sorted(ip_list, key=itemgetter(1))  #More efficient as compared to lmbda\n",
    "#ip_list = sorted(ip_list, key=lambda x: x[1])\n",
    "print(ip_list)"
   ]
  },
  {
   "cell_type": "code",
   "execution_count": 3,
   "metadata": {},
   "outputs": [
    {
     "name": "stdout",
     "output_type": "stream",
     "text": [
      "Enter elements: abc xyz pyth xyz 133 456 133 abc\n",
      "['abc', 'xyz', 'pyth', '133', '456']\n"
     ]
    }
   ],
   "source": [
    "'''Q22. Write the Python program to remove duplicates from a list?'''\n",
    "\n",
    "\n",
    "li = list(map(str, input(\"Enter elements: \").rstrip().split(' ')))\n",
    "result = list(dict.fromkeys(li))\n",
    "print(result)"
   ]
  },
  {
   "cell_type": "code",
   "execution_count": 7,
   "metadata": {},
   "outputs": [
    {
     "name": "stdout",
     "output_type": "stream",
     "text": [
      "Enter a list: python java c c++ c# go\n",
      "Enter the length: 2\n"
     ]
    },
    {
     "data": {
      "text/plain": [
       "['python', 'java', 'c++']"
      ]
     },
     "execution_count": 7,
     "metadata": {},
     "output_type": "execute_result"
    }
   ],
   "source": [
    "'''Q23. Write the Python program to find the list of words that are longer\n",
    "than n from a given list of words?'''\n",
    "\n",
    "li = list(map(str, input('Enter a list: ').rstrip().split(' ')))\n",
    "n = int(input('Enter the length: '))\n",
    "result = []\n",
    "for i in li:\n",
    "    if len(i) > n:\n",
    "        result.append(i)\n",
    "result"
   ]
  },
  {
   "cell_type": "code",
   "execution_count": 13,
   "metadata": {},
   "outputs": [
    {
     "name": "stdout",
     "output_type": "stream",
     "text": [
      "Enter a list: red green white black pink yellow\n"
     ]
    },
    {
     "data": {
      "text/plain": [
       "['green', 'white', 'black']"
      ]
     },
     "execution_count": 13,
     "metadata": {},
     "output_type": "execute_result"
    }
   ],
   "source": [
    "'''\n",
    "Q24. Write the Python program to print a specified list after removing the\n",
    "0th, 4th, and 5th elements?\n",
    "Sample List - ['Red', 'Green', 'White', 'Black', 'Pink', 'Yellow']\n",
    "Expected Output - ['Green', 'White', 'Black']\n",
    "'''\n",
    "\n",
    "li = list(map(str, input('Enter a list: ').rstrip().split(' ')))\n",
    "result = []\n",
    "for indx, val in enumerate(li):\n",
    "    if indx != 0 and indx != 4 and indx != 5:\n",
    "        result.append(val)\n",
    "li.clear()\n",
    "result    "
   ]
  },
  {
   "cell_type": "code",
   "execution_count": 15,
   "metadata": {},
   "outputs": [
    {
     "name": "stdout",
     "output_type": "stream",
     "text": [
      "Enter a list: 1 2 3\n"
     ]
    },
    {
     "data": {
      "text/plain": [
       "[(1, 2, 3), (1, 3, 2), (2, 1, 3), (2, 3, 1), (3, 1, 2), (3, 2, 1)]"
      ]
     },
     "execution_count": 15,
     "metadata": {},
     "output_type": "execute_result"
    }
   ],
   "source": [
    "'''Q25. Write the Python program to generate all permutations of a list in Python?'''\n",
    "\n",
    "import itertools\n",
    "\n",
    "li = list(map(int, input('Enter a list: ').rstrip().split(' ')))\n",
    "list(itertools.permutations(li))"
   ]
  },
  {
   "cell_type": "code",
   "execution_count": null,
   "metadata": {},
   "outputs": [],
   "source": []
  }
 ],
 "metadata": {
  "kernelspec": {
   "display_name": "Python 3",
   "language": "python",
   "name": "python3"
  },
  "language_info": {
   "codemirror_mode": {
    "name": "ipython",
    "version": 3
   },
   "file_extension": ".py",
   "mimetype": "text/x-python",
   "name": "python",
   "nbconvert_exporter": "python",
   "pygments_lexer": "ipython3",
   "version": "3.7.5"
  }
 },
 "nbformat": 4,
 "nbformat_minor": 2
}
