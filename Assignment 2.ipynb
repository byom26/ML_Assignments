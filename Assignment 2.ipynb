{
 "cells": [
  {
   "cell_type": "markdown",
   "metadata": {},
   "source": [
    "# TASK 1"
   ]
  },
  {
   "cell_type": "markdown",
   "metadata": {},
   "source": [
    "1.1) Write a Python Program to implement your own myreduce() function which works exactly like\n",
    "Python's built-in function reduce()"
   ]
  },
  {
   "cell_type": "code",
   "execution_count": 1,
   "metadata": {},
   "outputs": [
    {
     "name": "stdout",
     "output_type": "stream",
     "text": [
      "Sum is: 150\n"
     ]
    }
   ],
   "source": [
    "def myReduce(fnName, para):\n",
    "    result = para[0]\n",
    "    for i in para[1:]:\n",
    "        result = fnName(result,i)\n",
    "\n",
    "    return result\n",
    "\n",
    "# Testing of myReduce function !\n",
    "\n",
    "def addition(a,b):\n",
    "    return (a+b)\n",
    "\n",
    "li = [10,20,30,40,50]\n",
    "print(f'Sum is: {myReduce(addition,li)}')"
   ]
  },
  {
   "cell_type": "markdown",
   "metadata": {},
   "source": [
    "1.2) Write a Python program to implement your own myfilter() function which works exactly like\n",
    "Python's built-in function filter()"
   ]
  },
  {
   "cell_type": "code",
   "execution_count": 2,
   "metadata": {},
   "outputs": [
    {
     "name": "stdout",
     "output_type": "stream",
     "text": [
      "Numbers greater than 10 are: [13, 58, 100, 785, 1000]\n"
     ]
    }
   ],
   "source": [
    "def myFilter(fnName, para):\n",
    "    result = []\n",
    "    for i in para:\n",
    "        if fnName(i):\n",
    "            result.append(i)\n",
    "    \n",
    "    return result\n",
    "\n",
    "# Testing of myFilter function !\n",
    "def no_gt_ten(n):\n",
    "    if n>10:\n",
    "        return n\n",
    "\n",
    "li = [1,2,8,9,10,13,58,100,785,1000]\n",
    "print(f'Numbers greater than 10 are: {myFilter(no_gt_ten, li)}')"
   ]
  },
  {
   "cell_type": "markdown",
   "metadata": {},
   "source": [
    "2) Implement List comprehensions to produce the following lists.\n",
    "Write List comprehensions to produce the following Lists"
   ]
  },
  {
   "cell_type": "code",
   "execution_count": 3,
   "metadata": {},
   "outputs": [
    {
     "data": {
      "text/plain": [
       "['A', 'C', 'A', 'D', 'G', 'I', 'L', 'D']"
      ]
     },
     "execution_count": 3,
     "metadata": {},
     "output_type": "execute_result"
    }
   ],
   "source": [
    "#['A', 'C', 'A', 'D', 'G', 'I', ’L’, ‘ D’]\n",
    "word = 'ACADGILD'\n",
    "li = [i for i in word]\n",
    "li"
   ]
  },
  {
   "cell_type": "code",
   "execution_count": 4,
   "metadata": {},
   "outputs": [
    {
     "data": {
      "text/plain": [
       "['x', 'xx', 'xxx', 'xxxx', 'y', 'yy', 'yyy', 'yyyy', 'z', 'zz', 'zzz', 'zzzz']"
      ]
     },
     "execution_count": 4,
     "metadata": {},
     "output_type": "execute_result"
    }
   ],
   "source": [
    "#['x', 'xx', 'xxx', 'xxxx', 'y', 'yy', 'yyy', 'yyyy', 'z', 'zz', 'zzz', 'zzzz']\n",
    "li = ['x','y','z']\n",
    "result = [i*n for i in li for n in range(1,5)]\n",
    "result"
   ]
  },
  {
   "cell_type": "code",
   "execution_count": 5,
   "metadata": {},
   "outputs": [
    {
     "data": {
      "text/plain": [
       "['x', 'y', 'z', 'xx', 'yy', 'zz', 'xxx', 'yyy', 'zzz', 'xxxx', 'yyyy', 'zzzz']"
      ]
     },
     "execution_count": 5,
     "metadata": {},
     "output_type": "execute_result"
    }
   ],
   "source": [
    "#['x', 'y', 'z', 'xx', 'yy', 'zz', 'xxx', 'yyy', 'zzz', 'xxxx', 'yyyy', 'zzzz']\n",
    "li = ['x','y','z']\n",
    "result = [i*n for n in range(1,5) for i in li]\n",
    "result"
   ]
  },
  {
   "cell_type": "code",
   "execution_count": 6,
   "metadata": {},
   "outputs": [
    {
     "data": {
      "text/plain": [
       "[[2], [3], [4], [3], [4], [5], [4], [5], [6]]"
      ]
     },
     "execution_count": 6,
     "metadata": {},
     "output_type": "execute_result"
    }
   ],
   "source": [
    "#[[2], [3], [4], [3], [4], [5], [4], [5], [6]]\n",
    "li = [2,3,4]\n",
    "result = [[i+n]for i in li for n in range(0,3)]\n",
    "result"
   ]
  },
  {
   "cell_type": "code",
   "execution_count": 7,
   "metadata": {},
   "outputs": [
    {
     "data": {
      "text/plain": [
       "[[2, 3, 4, 5], [3, 4, 5, 6], [4, 5, 6, 7], [5, 6, 7, 8]]"
      ]
     },
     "execution_count": 7,
     "metadata": {},
     "output_type": "execute_result"
    }
   ],
   "source": [
    "#[[2, 3, 4, 5], [3, 4, 5, 6], [4, 5, 6, 7], [5, 6, 7, 8]]\n",
    "li = [2,3,4,5]\n",
    "result = [[i+n for i in li]for n in range(0,4)]\n",
    "result"
   ]
  },
  {
   "cell_type": "code",
   "execution_count": 8,
   "metadata": {},
   "outputs": [
    {
     "data": {
      "text/plain": [
       "[(1, 1), (2, 1), (3, 1), (1, 2), (2, 2), (3, 2), (1, 30), (2, 30), (3, 30)]"
      ]
     },
     "execution_count": 8,
     "metadata": {},
     "output_type": "execute_result"
    }
   ],
   "source": [
    "#[(1, 1), (2, 1), (3, 1), (1, 2), (2, 2), (3, 2), (1, 3), (2, 3), (3, 3)]\n",
    "li = [1,2,30]\n",
    "result = [(j,i) for i in li for j in range(1,4)]\n",
    "result"
   ]
  },
  {
   "cell_type": "markdown",
   "metadata": {},
   "source": [
    "3)Implement a function longestWord() that takes a list of words and returns the longest one."
   ]
  },
  {
   "cell_type": "code",
   "execution_count": 9,
   "metadata": {},
   "outputs": [
    {
     "name": "stdout",
     "output_type": "stream",
     "text": [
      "Longest word : {'hello', 'world', 'pytho'}\n"
     ]
    }
   ],
   "source": [
    "def longestWord(arg) :\n",
    "    max = 0    \n",
    "    for i in arg :\n",
    "        min = len(i)\n",
    "        if min > max :\n",
    "            max = min\n",
    "            result = set()\n",
    "            result.add(i)\n",
    "        elif min == max :\n",
    "            result.add(i)            \n",
    "        else :\n",
    "            pass\n",
    "        \n",
    "    return result\n",
    "\n",
    "# Testing of longestWord function !\n",
    "\n",
    "li = ['why', 'how', 'hello', 'world', 'hii', 'know', 'pytho', 'hello']\n",
    "print(f'Longest word : {longestWord(li)}')        "
   ]
  },
  {
   "cell_type": "markdown",
   "metadata": {},
   "source": [
    "# Task 2"
   ]
  },
  {
   "cell_type": "markdown",
   "metadata": {},
   "source": [
    "1.1) Write a Python Program(with class concepts) to find the area of the triangle using the below\n",
    "formula.\n",
    "area = (s*(s-a)*(s-b)*(s-c)) ** 0.5\n",
    "Function to take the length of the sides of triangle from user should be defined in the parent\n",
    "class and function to calculate the area should be defined in subclass."
   ]
  },
  {
   "cell_type": "code",
   "execution_count": 10,
   "metadata": {},
   "outputs": [
    {
     "name": "stdout",
     "output_type": "stream",
     "text": [
      "Enter side 1 : 3\n",
      "Enter side 2 : 4\n",
      "Enter side 3 : 5\n",
      "Area of triangle: 6.0\n"
     ]
    }
   ],
   "source": [
    "class TriSides:\n",
    "        def __init__(self):\n",
    "                self.sides = [i for i in range(0,3)]\n",
    "        def inputSide(self):\n",
    "                self.sides = [float(input(\"Enter side \"+str(i+1)+\" : \")) for i in range(0,3)]\n",
    "class TriArea(TriSides):\n",
    "        def __init__(self):\n",
    "                TriSides.__init__(self)\n",
    "        def area(self):\n",
    "                a,b,c = self.sides\n",
    "                s = (a+b+c)/2\n",
    "                return (s*(s-a)*(s-b)*(s-c)) ** 0.5\n",
    "\n",
    "t = TriArea()\n",
    "t.inputSide()\n",
    "print(f'Area of triangle: {t.area()}')"
   ]
  },
  {
   "cell_type": "markdown",
   "metadata": {},
   "source": [
    "1.2) Write a function filter_long_words() that takes a list of words and an integer n and returns the list\n",
    "of words that are longer than n."
   ]
  },
  {
   "cell_type": "code",
   "execution_count": 11,
   "metadata": {},
   "outputs": [
    {
     "data": {
      "text/plain": [
       "{'hello', 'pytho', 'world'}"
      ]
     },
     "execution_count": 11,
     "metadata": {},
     "output_type": "execute_result"
    }
   ],
   "source": [
    "def filter_long_words(li_words, n) :\n",
    "    for i in li_words :\n",
    "        if len(i) > n :\n",
    "            yield i\n",
    "\n",
    "# Testing of filter_long_words function !\n",
    "\n",
    "result = set()            \n",
    "li = ['why', 'how', 'hello', 'world', 'hii', 'know', 'pytho', 'hello']\n",
    "n = 4\n",
    "for i in filter_long_words(li,n) : \n",
    "    result.add(i)\n",
    "result\n",
    "#print(','.join([str(i) for i in filter_long_words(li,n)]))"
   ]
  },
  {
   "cell_type": "markdown",
   "metadata": {},
   "source": [
    "2.1) Write a Python program using function concept that maps list of words into a list of integers\n",
    "representing the lengths of the corresponding words​ .\n",
    "Hint: ​ If a list [ ab,cde,erty] is passed on to the python function output should come as [2,3,4]\n",
    "Here 2,3 and 4 are the lengths of the words in the list."
   ]
  },
  {
   "cell_type": "code",
   "execution_count": 12,
   "metadata": {},
   "outputs": [
    {
     "data": {
      "text/plain": [
       "[3, 3, 5, 5, 3, 4, 5, 5]"
      ]
     },
     "execution_count": 12,
     "metadata": {},
     "output_type": "execute_result"
    }
   ],
   "source": [
    "def listMap(li):\n",
    "    return map(len,li)\n",
    "\n",
    "li = ['why', 'how', 'hello', 'world', 'hii', 'know', 'pytho', 'hello']\n",
    "result = list(i for i in listMap(li))\n",
    "result"
   ]
  },
  {
   "cell_type": "markdown",
   "metadata": {},
   "source": [
    "2.2) Write a Python function which takes a character (i.e. a string of length 1) and returns True if it is\n",
    "a vowel, False otherwise."
   ]
  },
  {
   "cell_type": "code",
   "execution_count": 13,
   "metadata": {},
   "outputs": [
    {
     "data": {
      "text/plain": [
       "False"
      ]
     },
     "execution_count": 13,
     "metadata": {},
     "output_type": "execute_result"
    }
   ],
   "source": [
    "def vowelCheck(cha):\n",
    "    c = cha.lower()\n",
    "    if c=='a' or c=='e' or c=='i' or c=='o' or c=='u':\n",
    "        return True\n",
    "    else :\n",
    "        return False\n",
    "    \n",
    "vowelCheck('c')"
   ]
  }
 ],
 "metadata": {
  "kernelspec": {
   "display_name": "Python 3",
   "language": "python",
   "name": "python3"
  },
  "language_info": {
   "codemirror_mode": {
    "name": "ipython",
    "version": 3
   },
   "file_extension": ".py",
   "mimetype": "text/x-python",
   "name": "python",
   "nbconvert_exporter": "python",
   "pygments_lexer": "ipython3",
   "version": "3.7.5"
  }
 },
 "nbformat": 4,
 "nbformat_minor": 2
}
